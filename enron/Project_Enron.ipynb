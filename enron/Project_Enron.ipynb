{
 "cells": [
  {
   "cell_type": "code",
   "execution_count": 11,
   "metadata": {
    "collapsed": true
   },
   "outputs": [],
   "source": [
    "import pandas as pd\n",
    "import numpy as np\n",
    "import regex as reg\n",
    "import seaborn as sns\n",
    "import matplotlib as mpl\n",
    "import matplotlib.pyplot as plt\n",
    "import pickle\n",
    "import re\n",
    "import os\n",
    "%matplotlib inline"
   ]
  },
  {
   "cell_type": "markdown",
   "metadata": {},
   "source": [
    "There are 2 kind of data available for this analysis:\n",
    "    - The structured data: a dictionary containing numerous features\n",
    "    - The unstructured: a lots of emails.\n",
    "    \n",
    "I will attempt to use both of them to identify person of interest. First with the structured, then the unstructured."
   ]
  },
  {
   "cell_type": "markdown",
   "metadata": {},
   "source": [
    "# STRUCTURED DATA SET"
   ]
  },
  {
   "cell_type": "markdown",
   "metadata": {},
   "source": [
    "#### 1. THE DATA SET"
   ]
  },
  {
   "cell_type": "code",
   "execution_count": 12,
   "metadata": {
    "collapsed": false
   },
   "outputs": [],
   "source": [
    "from feature_format import featureFormat, targetFeatureSplit\n",
    "\n",
    "data_dict = pickle.load(open(\"final_project_dataset.pkl\", \"r\") )\n",
    "\n",
    "features_list = [\"bonus\", 'deferral_payments', 'deferred_income', \n",
    "                 'director_fees', 'exercised_stock_options', \n",
    "                 \"expenses\", 'from_messages', 'loan_advances',\n",
    "                 'long_term_incentive', 'other', 'restricted_stock', \n",
    "                 'restricted_stock_deferred', 'salary', 'to_messages', \n",
    "                 'total_payments', 'total_stock_value']\n",
    "\n",
    "data = featureFormat(data_dict, features_list)"
   ]
  },
  {
   "cell_type": "code",
   "execution_count": 13,
   "metadata": {
    "collapsed": false
   },
   "outputs": [
    {
     "name": "stdout",
     "output_type": "stream",
     "text": [
      "Total number of data points: 146\n",
      "Alocation across class (POI/non-POI): 0.140625\n",
      "Number of features used: 16\n"
     ]
    }
   ],
   "source": [
    "print 'Total number of data points: {}'.format(len(data_dict))\n",
    "POI = 0\n",
    "for person in data_dict:\n",
    "    if data_dict[person]['poi'] == True:\n",
    "        POI += 1\n",
    "non_POI = len(data_dict) - POI\n",
    "\n",
    "print ('Alocation across class (POI/non-POI): {}'.\n",
    "       format(POI/float(non_POI)))\n",
    "print 'Number of features used: {}'.format(len(features_list))\n"
   ]
  },
  {
   "cell_type": "code",
   "execution_count": 14,
   "metadata": {
    "collapsed": false
   },
   "outputs": [
    {
     "data": {
      "text/plain": [
       "{'bonus': 82,\n",
       " 'deferral_payments': 39,\n",
       " 'deferred_income': 49,\n",
       " 'director_fees': 17,\n",
       " 'exercised_stock_options': 102,\n",
       " 'expenses': 95,\n",
       " 'from_messages': 86,\n",
       " 'loan_advances': 4,\n",
       " 'long_term_incentive': 66,\n",
       " 'other': 93,\n",
       " 'restricted_stock': 110,\n",
       " 'restricted_stock_deferred': 18,\n",
       " 'salary': 95,\n",
       " 'to_messages': 86,\n",
       " 'total_payments': 125,\n",
       " 'total_stock_value': 126}"
      ]
     },
     "execution_count": 14,
     "metadata": {},
     "output_type": "execute_result"
    }
   ],
   "source": [
    "data_avail = {}\n",
    "for feature in features_list:\n",
    "    data = featureFormat(data_dict, [feature])\n",
    "    data_avail[feature] = len(data) \n",
    "\n",
    "data_avail"
   ]
  },
  {
   "cell_type": "markdown",
   "metadata": {},
   "source": [
    "The median of allocation across data points (non-missing/ missing) are 0.57.\n",
    "\n",
    "Therefore, I defined features with many missing values as any features that have less than 0.57 available data points."
   ]
  },
  {
   "cell_type": "code",
   "execution_count": 15,
   "metadata": {
    "collapsed": false
   },
   "outputs": [
    {
     "name": "stdout",
     "output_type": "stream",
     "text": [
      "Median of data points available: 0.58904109589\n",
      "Features with many missing values: 7\n"
     ]
    }
   ],
   "source": [
    "features_with_many_nan = 0\n",
    "total_miss = 0\n",
    "for feature in data_avail:\n",
    "    total_miss += data_avail[feature]\n",
    "    if (data_avail[feature] / float(len(data_dict))) < 0.57:\n",
    "        features_with_many_nan += 1\n",
    "values = np.array(list(data_avail.values()))\n",
    "print ('Median of data points available: {}'\n",
    "       .format(np.median(values)/len(data_dict)))\n",
    "print ('Features with many missing values: {}'\n",
    "       .format(features_with_many_nan))"
   ]
  },
  {
   "cell_type": "markdown",
   "metadata": {},
   "source": [
    "#### 2. THE OUTLIERS:\n"
   ]
  },
  {
   "cell_type": "markdown",
   "metadata": {},
   "source": [
    "\n",
    "\n",
    "Before doing anything, it is imperitive to dive into the data, and try to understand it as deeply as you could.\n",
    "\n",
    "First, I will attempt to visualize all the data points of all the features available. I want to see if there was some kind of special shape, and to inspect on the state of outliers as well as the noise (the noise are the data from people who are not person of interest)\n",
    "\n",
    "So I'm going to plot the data across the x-axis, seperated by different features. I don't care about the y-axis, because I only want to look at the shape of the data."
   ]
  },
  {
   "cell_type": "code",
   "execution_count": 16,
   "metadata": {
    "collapsed": false
   },
   "outputs": [
    {
     "name": "stdout",
     "output_type": "stream",
     "text": [
      "  feature  poi      value\n",
      "0   bonus  0.0   600000.0\n",
      "1   bonus  0.0  1200000.0\n",
      "2   bonus  0.0   350000.0\n",
      "3   bonus  1.0  1500000.0\n",
      "4   bonus  0.0   325000.0\n"
     ]
    },
    {
     "data": {
      "image/png": "[encoded data removed]",
      "text/plain": [
       "<matplotlib.figure.Figure at 0x87efe90>"
      ]
     },
     "metadata": {},
     "output_type": "display_data"
    }
   ],
   "source": [
    "def prepare_plotting_data(input_data, features_list):\n",
    "    '''\n",
    "    Given the input_data, which is a dict of dict, extract feature \n",
    "    one by one from the list of given features_list.\n",
    "    Reformat it (remove NaN and 0)\n",
    "    Return a pandas dataframe of the long format, containing \n",
    "    these fields: (feature, poi, value)\n",
    "    '''\n",
    "    \n",
    "    features_data = pd.DataFrame({'value': [], 'poi': [], 'feature': []})\n",
    "    for feature in features_list:\n",
    "        feature_data = featureFormat(input_data, ['poi', feature])\n",
    "        extracted_feature_data = feature_data[:, 1]\n",
    "        data = pd.DataFrame(feature_data, columns=('poi', 'value'))\n",
    "        data['feature'] = feature\n",
    "        features_data = pd.concat([features_data, data])\n",
    "    return features_data\n",
    "features_data = prepare_plotting_data(data_dict, features_list)\n",
    "print features_data.head()\n",
    "\n",
    "def create_swarmplot(data):\n",
    "    'Plot a swarmplot from the data created by prepare_plotting_data'\n",
    "    \n",
    "    fig = plt.figure(1, figsize=(15, 8))\n",
    "    ax = fig.add_subplot(111)\n",
    "    sns.swarmplot(x=\"feature\", y=\"value\", hue=\"poi\", data=data);\n",
    "    ax.set_xticklabels(features_list, rotation='vertical')\n",
    "create_swarmplot(features_data)"
   ]
  },
  {
   "cell_type": "markdown",
   "metadata": {},
   "source": [
    "So there are quite a few outliers in this dataset.\n",
    "\n",
    "The one in green represent those that we care about, person of interest, while the one in blue represent the noise, I will remove the blue outliers."
   ]
  },
  {
   "cell_type": "markdown",
   "metadata": {},
   "source": [
    "One widely used definition of outlier is that any data point more than 1.5 interquartile ranges (IQRs) below the first quartile or above the third quartile.\n",
    "\n",
    "But it really is depends. In this case, I will just go with the default 1.5 first, and will come back to tune it later, if the situation calls for."
   ]
  },
  {
   "cell_type": "code",
   "execution_count": 17,
   "metadata": {
    "collapsed": false
   },
   "outputs": [],
   "source": [
    "def outliers_identifier(data, distance):\n",
    "    '''\n",
    "    Given a numpy array data, identify the outliers according to \n",
    "    the input IQRs ranges, return a list containing the index of \n",
    "    all the outliers\n",
    "    '''\n",
    "    # Calculate the q25, q75 and the IQR\n",
    "    q75, q25 = np.percentile(data, [75 ,25])\n",
    "    iqr = q75 - q25\n",
    "    \n",
    "    threshold_high = q75 + iqr*distance\n",
    "    threshold_low = q25 - iqr*distance\n",
    "    \n",
    "    # Subset the outliers, which are either lower than threshold_low, \n",
    "    # or higher than threshold_high\n",
    "    outliers = data[(data > threshold_high) + (data < threshold_low)]\n",
    "    outliers_index = []\n",
    "    \n",
    "    for datapoint in outliers:\n",
    "        if len(np.where(data == datapoint)[0]) == 1:\n",
    "            outliers_index.append(np.where(data == datapoint)[0][0])\n",
    "        else:\n",
    "            for datapoint_in_list in np.where(data == datapoint)[0]:\n",
    "                outliers_index.append(datapoint_in_list)\n",
    "    return outliers_index"
   ]
  },
  {
   "cell_type": "markdown",
   "metadata": {},
   "source": [
    "I removed the outliers, and put all the information in a long pandas dataframe, and created a swarmplot to show the shape of the data.\n",
    "\n",
    "I added another field 'id' to keep track of the origin of features and values."
   ]
  },
  {
   "cell_type": "code",
   "execution_count": 18,
   "metadata": {
    "collapsed": false,
    "scrolled": false
   },
   "outputs": [
    {
     "name": "stdout",
     "output_type": "stream",
     "text": [
      "removed 103 outliers out of 1193 data points\n",
      "  feature   id  poi      value\n",
      "0   bonus  1.0  0.0   600000.0\n",
      "1   bonus  2.0  0.0  1200000.0\n",
      "2   bonus  3.0  0.0   350000.0\n",
      "3   bonus  5.0  1.0  1500000.0\n",
      "4   bonus  6.0  0.0   325000.0\n"
     ]
    },
    {
     "data": {
      "image/png": "[encoded data removed]",
      "text/plain": [
       "<matplotlib.figure.Figure at 0x89bb630>"
      ]
     },
     "metadata": {},
     "output_type": "display_data"
    }
   ],
   "source": [
    "# Add id to the data_dict\n",
    "id = 1\n",
    "for key in data_dict:\n",
    "    data_dict[key]['id'] = id\n",
    "    id += 1\n",
    "\n",
    "def remove_outliers(input_data, features_list):\n",
    "    '''\n",
    "    Given the input_data, which is a dict of dict, extract feature \n",
    "    one by one from the list of given features_list.\n",
    "    Reformat it (remove NaN and 0)\n",
    "    Find and remove the outliers\n",
    "    Return a pandas dataframe of the long format, containing \n",
    "    these fields: (id,feature, poi, value)\n",
    "    \n",
    "    '''\n",
    "    cleaned_data = pd.DataFrame({'value': [], 'id': [], \n",
    "                                 'poi': [], 'feature': []})\n",
    "    total_deleted_points = 0\n",
    "    for feature in features_list:\n",
    "        # Extract feature information, stored them under long format\n",
    "        # with corresponding 'poi' and 'id' data, remove 'NaN' and zeroes.\n",
    "        data = featureFormat(input_data, ['poi', 'id', feature], \n",
    "                             remove_any_zeroes=True)\n",
    "        \n",
    "        # Take out the feature data\n",
    "        extracted_feature_data = data[:, 2]\n",
    "        \n",
    "        # Use the function outliers_identifier to identify the outliers\n",
    "        outliers_index = np.apply_along_axis(outliers_identifier, 0, \n",
    "                                             extracted_feature_data, 1.5)\n",
    "        \n",
    "        # Remove duplicate values\n",
    "        outliers_index = np.unique(outliers_index)\n",
    "        \n",
    "        # Remove the datapoint according to the index stored in \n",
    "        # outliers_index. Deleted_points will record the number \n",
    "        # of deletions, and serve as adjustment point, since\n",
    "        # the index will move up with each deletion.\n",
    "        deleted_points = 0\n",
    "        for datapoints in outliers_index:\n",
    "            datapoints = datapoints - deleted_points\n",
    "            if data[datapoints][0] == 1:\n",
    "                pass\n",
    "            else:\n",
    "                data = np.delete(data, datapoints, 0)\n",
    "                deleted_points += 1\n",
    "        total_deleted_points += deleted_points\n",
    "        \n",
    "        # Store the data on a pandas dataframe outside of the loop \n",
    "        # once done removing the outliers\n",
    "        data = pd.DataFrame(data, columns=('poi', 'id', 'value'))\n",
    "        data['feature'] = feature\n",
    "        cleaned_data = pd.concat([cleaned_data, data])\n",
    "    print ('removed {} outliers out of {} data points'\n",
    "           .format(total_deleted_points, \n",
    "                   (len(cleaned_data) + total_deleted_points)))\n",
    "    return cleaned_data\n",
    "outliers_free_data = remove_outliers(data_dict, features_list)\n",
    "print outliers_free_data.head()\n",
    "\n",
    "create_swarmplot(outliers_free_data)"
   ]
  },
  {
   "cell_type": "markdown",
   "metadata": {},
   "source": [
    "It looks so much better now, most of the noises had been removed."
   ]
  },
  {
   "cell_type": "markdown",
   "metadata": {},
   "source": [
    "#### 3. MODELLING"
   ]
  },
  {
   "cell_type": "markdown",
   "metadata": {},
   "source": [
    "Sklearn doesn't really play well with pandas, so I will first reshape it to wide pandas, then convert it back to numpy."
   ]
  },
  {
   "cell_type": "code",
   "execution_count": 19,
   "metadata": {
    "collapsed": false
   },
   "outputs": [],
   "source": [
    "# Pivot to wide pandas using 'id', 'feature' and 'value'. 'poi' is \n",
    "# temporarily left behind, I will go back in pick it up later\n",
    "outliers_free_data_w = outliers_free_data.pivot(index='id', \n",
    "                                                columns='feature', \n",
    "                                                values= 'value')\n",
    "\n",
    "# Reset the index, but keep the id column\n",
    "outliers_free_data_w = outliers_free_data_w.reset_index(drop=False)\n",
    "\n",
    "# Pick up the 'poi' data left behind earlier\n",
    "outliers_free_data_w = pd.merge(outliers_free_data_w, \n",
    "                                (outliers_free_data[['id', 'poi']]\n",
    "                                 .drop_duplicates()), \n",
    "                                how='left', on='id')\n",
    "\n",
    "# Store the name of the features and labels, these information \n",
    "# will be used later.\n",
    "feature_names = (list(outliers_free_data_w.columns.values)\n",
    "                 [:len(outliers_free_data_w.columns)-1])\n",
    "label_names = np.array(['not poi', 'poi'])\n",
    "\n",
    "# Convert to numpy array\n",
    "outliers_f_data_w = outliers_free_data_w.as_matrix()"
   ]
  },
  {
   "cell_type": "markdown",
   "metadata": {},
   "source": [
    "Split the targets and the features."
   ]
  },
  {
   "cell_type": "code",
   "execution_count": 20,
   "metadata": {
    "collapsed": true
   },
   "outputs": [],
   "source": [
    "def targetFeatureSplit(data):\n",
    "    \"\"\"\n",
    "    Split the target and the features, here targetFeatureSplit assume\n",
    "    that the target are at the end of the array\n",
    "    \"\"\"\n",
    "    target = []\n",
    "    features = []\n",
    "    for item in data:\n",
    "        target.append(item[-1])\n",
    "        features.append(item[:(len(item) - 1)])\n",
    "\n",
    "    return target, features\n",
    "\n",
    "cleaned_labels, cleaned_features = targetFeatureSplit(outliers_f_data_w)"
   ]
  },
  {
   "cell_type": "markdown",
   "metadata": {},
   "source": [
    "I've previously cleared out all of the 'NaN' values when removing outliers.\n",
    "\n",
    "But they reappeared, when I mold the dataframe back to the wide format.\n",
    "\n",
    "So now, I will just have to clean it, once again.\n",
    "\n",
    "This time, however, instead of 0.0, I will change the missing value to the mean of the feature."
   ]
  },
  {
   "cell_type": "code",
   "execution_count": 21,
   "metadata": {
    "collapsed": false
   },
   "outputs": [
    {
     "data": {
      "text/plain": [
       "(145, 17)"
      ]
     },
     "execution_count": 21,
     "metadata": {},
     "output_type": "execute_result"
    }
   ],
   "source": [
    "from sklearn.preprocessing import Imputer\n",
    "imp = Imputer(missing_values='NaN', strategy='mean', axis=0)\n",
    "imp.fit(cleaned_features)\n",
    "cleaned_features = imp.transform(cleaned_features)\n",
    "\n",
    "cleaned_features.shape"
   ]
  },
  {
   "cell_type": "markdown",
   "metadata": {},
   "source": [
    "There are 145 data points. Certainly not that big, but not too small, either.\n",
    "\n",
    "For validation, I'm going to save 30% of the data set. Later on, I will use these as the testing data to make sure that the model wasn't overfitted.\n",
    "\n",
    "I'm going to try a lot of parameters combination to make the most of the algorithms, k-fold cross-validation will be used to validate these parameters tuning."
   ]
  },
  {
   "cell_type": "code",
   "execution_count": 22,
   "metadata": {
    "collapsed": true
   },
   "outputs": [],
   "source": [
    "from sklearn.cross_validation import train_test_split\n",
    "train_features, test_features = train_test_split(cleaned_features, \n",
    "                                                 train_size=0.7, \n",
    "                                                 random_state=42)\n",
    "\n",
    "train_labels, test_labels = train_test_split(cleaned_labels, \n",
    "                                             train_size=0.7, \n",
    "                                             random_state=42)"
   ]
  },
  {
   "cell_type": "markdown",
   "metadata": {},
   "source": [
    "There are a lot of algorithms avaiable, so I will just try a lot. \n",
    "\n",
    "    - A pipeline are constructed and put in a function to help move things forward easier.\n",
    "    - SelectKBest are used to find the meaningful features.\n",
    "    - GridSearchCV are used to fine-tuning the parameters for the algorithms and to find the best combination of features.\n",
    "    - The test data are then used to test the model."
   ]
  },
  {
   "cell_type": "code",
   "execution_count": 23,
   "metadata": {
    "collapsed": true
   },
   "outputs": [],
   "source": [
    "from sklearn.pipeline import Pipeline\n",
    "from sklearn.metrics import classification_report\n",
    "from sklearn.grid_search import GridSearchCV\n",
    "from sklearn.feature_selection import SelectKBest\n",
    "\n",
    "def modelling(method, parameters):\n",
    "    \"\"\"\n",
    "    Given a method (algorithm) and a tuning parameters, train \n",
    "    the model and print the results\n",
    "    \"\"\"\n",
    "    pipeline = Pipeline([\n",
    "            ('features_selection', SelectKBest()),\n",
    "            ('classifier', method)])\n",
    "    cv = GridSearchCV(pipeline, param_grid=parameters, \n",
    "                      scoring='recall')\n",
    "    cv.fit(train_features, train_labels)\n",
    "    pred = cv.predict(test_features)\n",
    "    print classification_report(test_labels, pred)\n",
    "    return cv\n"
   ]
  },
  {
   "cell_type": "markdown",
   "metadata": {},
   "source": [
    "Expected result:\n",
    "\n",
    "    - The total precision and recall rate must be higher than 50%\n",
    "    - The precision and recall rate for class '1.0' must not be '0.0', since class '1.0' are the interested class.\n",
    "    - Recall are priotized over Precision, especially the recall for class '1.0' In this context, I am not trying to advoid\n",
    "    faming innocents, I am trying to identify all the possible person_of_interest. The polices will continue the work and \n",
    "    the court will determine if they are at fault or not."
   ]
  },
  {
   "cell_type": "code",
   "execution_count": 24,
   "metadata": {
    "collapsed": false
   },
   "outputs": [
    {
     "name": "stdout",
     "output_type": "stream",
     "text": [
      "             precision    recall  f1-score   support\n",
      "\n",
      "        0.0       0.93      1.00      0.96        38\n",
      "        1.0       1.00      0.50      0.67         6\n",
      "\n",
      "avg / total       0.94      0.93      0.92        44\n",
      "\n"
     ]
    }
   ],
   "source": [
    "from sklearn.ensemble import ExtraTreesClassifier\n",
    "\n",
    "method = ExtraTreesClassifier()\n",
    "parameters = dict(features_selection__k=range(4, 12),\n",
    "                  classifier__n_estimators=[5, 10, 20, 50],\n",
    "                  classifier__min_samples_split=[2, 3, 4, 5],\n",
    "                  classifier__min_samples_leaf=range(1, 7))\n",
    "\n",
    "ett = modelling(method, parameters)"
   ]
  },
  {
   "cell_type": "code",
   "execution_count": 25,
   "metadata": {
    "collapsed": false
   },
   "outputs": [
    {
     "name": "stdout",
     "output_type": "stream",
     "text": [
      "             precision    recall  f1-score   support\n",
      "\n",
      "        0.0       0.90      1.00      0.95        38\n",
      "        1.0       1.00      0.33      0.50         6\n",
      "\n",
      "avg / total       0.92      0.91      0.89        44\n",
      "\n"
     ]
    }
   ],
   "source": [
    "from sklearn.ensemble import RandomForestClassifier\n",
    "\n",
    "method = RandomForestClassifier()\n",
    "parameters = dict(features_selection__k=range(4, 10),\n",
    "                  classifier__n_estimators=[5, 10, 20, 50],\n",
    "                  classifier__min_samples_split=[2, 3, 4, 5],\n",
    "                  classifier__min_samples_leaf=range(1, 7))\n",
    "rfc = modelling(method, parameters)"
   ]
  },
  {
   "cell_type": "code",
   "execution_count": 26,
   "metadata": {
    "collapsed": false
   },
   "outputs": [
    {
     "name": "stdout",
     "output_type": "stream",
     "text": [
      "             precision    recall  f1-score   support\n",
      "\n",
      "        0.0       0.95      1.00      0.97        38\n",
      "        1.0       1.00      0.67      0.80         6\n",
      "\n",
      "avg / total       0.96      0.95      0.95        44\n",
      "\n"
     ]
    }
   ],
   "source": [
    "from sklearn.naive_bayes import GaussianNB\n",
    "method = GaussianNB()\n",
    "parameters = dict(features_selection__k=range(4, 10))\n",
    "gnb = modelling(method, parameters)"
   ]
  },
  {
   "cell_type": "markdown",
   "metadata": {},
   "source": [
    "# UNSTRUCTURED DATA SET"
   ]
  },
  {
   "cell_type": "markdown",
   "metadata": {},
   "source": [
    "#### 1. DATA SET"
   ]
  },
  {
   "cell_type": "markdown",
   "metadata": {
    "collapsed": true
   },
   "source": [
    "\n",
    "Another approach is text learning. In this approach, I will just forget about all the previously defined features, and instead, focus on figuring out if word frequencies will be better at finding the person of interest.\n",
    "\n",
    "There are a total of 150 email directories with over 300,000 emails available.\n",
    "The emails stored in these directories are categorized into all kind of subdirectories: inbox, sent, archived, starwars...\n",
    "The emails also came with all shapes and flavours, so it might be a mess to parse them all accordingly to the main categories.\n",
    "\n",
    "The first challenge is to find a way to parse these emails together:\n",
    "\n",
    "- Use the parent directory where the emails belong to as the key is one approach, however, since the inrested emails are the one sent by the person only, while the directory hold not just emails sent by that person, but inbox from others as well. So not a very good approach for this one.\n",
    "- My approach to solve this is to disregard the parent directory, and to just read every single email, and identify the person that sent the email (an email might be received by several, but can only be sent by one, making from_email_adress a unikey key). "
   ]
  },
  {
   "cell_type": "code",
   "execution_count": 7,
   "metadata": {
    "collapsed": false
   },
   "outputs": [],
   "source": [
    "def extract_sender(f):\n",
    "    '''\n",
    "    Email identifier, will read an email and pick up the \n",
    "    sender's email address\n",
    "    '''\n",
    "    try:\n",
    "        email_pattern = re.compile(r'From: .+@.+')\n",
    "        sender = email_pattern.search(f.read()).group()[6:]\n",
    "    except AttributeError:\n",
    "        sender = 'NaN'\n",
    "    return sender\n",
    "\n",
    "def extract_email_and_path():\n",
    "    \"\"\"\n",
    "    Walk through the directory that store the data, open email, \n",
    "    one by one, use the function 'extract_sender' defined above \n",
    "    to extract the sender's email.\n",
    "    \n",
    "    Register the sender's email as a new key to the text_dict if \n",
    "    it does not exist, otherwise, store the path to the email.\n",
    "    \n",
    "    Return the text_dict once done\n",
    "    \"\"\"\n",
    "    text_dict = {}\n",
    "    sender_email = []\n",
    "    contents = []\n",
    "    processed = 0\n",
    "    # Walk the directory\n",
    "    (for dirname, dirnames, filenames in \n",
    "     os.walk('.\\enron_mail_20150507\\maildir', topdown=False)):\n",
    "        for filename in filenames:\n",
    "            # When see a file, create a path that lead it\n",
    "            path = os.path.join(dirname, filename) + '.'\n",
    "            # Window masterrace\n",
    "            path = path.replace('\\\\', '/')\n",
    "\n",
    "            # Open the file and extract the from_email_adress\n",
    "            with open(path, 'r') as f:\n",
    "                sender = extract_sender(f)\n",
    "            # Store the from_email_adress and the path to the \n",
    "            # email to a dict\n",
    "            if text_dict.get(sender):\n",
    "                text_dict[sender]['email_path'].append(path)\n",
    "            else:\n",
    "                text_dict[sender] = {'email_path' : [path]}\n",
    "            processed += 1\n",
    "    print 'processed: {}'.format(processed)\n",
    "    return text_dict    \n",
    "text_dict = extract_email_and_path()\n",
    "print 'Created dictionary containing: {}'.format(len(text_dict))"
   ]
  },
  {
   "cell_type": "markdown",
   "metadata": {},
   "source": [
    "Add additional information to the text_dict:\n",
    "\n",
    "    - Poi status: If the person is identified as poi.\n",
    "    - Identifier: Assigned another unique id to the key, this id will be used as the name for storage file later on. \n",
    "    The email can't be used for this, for most often than not, it will contain special chars, easier to just have another set of unique id."
   ]
  },
  {
   "cell_type": "code",
   "execution_count": 10,
   "metadata": {
    "collapsed": false
   },
   "outputs": [],
   "source": [
    "# From the data dict available, extract and store the email and poi data\n",
    "data_dict_email = []\n",
    "data_dict_poi = []\n",
    "for person in data_dict:\n",
    "    data_dict_email.append(data_dict[person]['email_address'])\n",
    "    data_dict_poi.append(data_dict[person]['poi'])\n",
    "poi = []\n",
    "\n",
    "\n",
    "# Loop through all the email in the text_dict, if the email match the \n",
    "# data_dict's, get the poi status from it and conver to float, \n",
    "# otherwise, set it as 0.0. Assign id to the text_dict, running from 0\n",
    "# to len(text_dict), convert it to string and add '.txt' to the end.\n",
    "id = 0\n",
    "for email in text_dict:\n",
    "    try:\n",
    "        list_index = data_dict_email.index(email)\n",
    "        if data_dict_poi[list_index] == True: \n",
    "            poi = 1.0\n",
    "        else: \n",
    "            poi = 0.0\n",
    "    except ValueError:\n",
    "        poi = 0.0\n",
    "    text_dict[email]['poi'] = poi\n",
    "    text_dict[email]['content_file_id'] = str(id) + '.txt'\n",
    "    id += 1"
   ]
  },
  {
   "cell_type": "markdown",
   "metadata": {},
   "source": [
    "Parse the contents of all the email a person sent together and write it out as a text file using the unique file name previously given.\n",
    "\n",
    "Only the people from enron are processed, because the power of my machine are limited."
   ]
  },
  {
   "cell_type": "code",
   "execution_count": 16,
   "metadata": {
    "collapsed": false
   },
   "outputs": [],
   "source": [
    "def parse_contents(list_of_files, identifier):\n",
    "    '''\n",
    "    Given a list of file directories, open them, one at a time,\n",
    "    split the email to 2 part using the key 'X-FileName:', store\n",
    "    the second part\n",
    "    \n",
    "    Once done reading all files, write the string to a new text\n",
    "    file, under the given name.\n",
    "    '''\n",
    "    all_contents = ''\n",
    "    # Parse contents from the provided list of files, one by one\n",
    "    for data_file in list_of_files:\n",
    "        with open(data_file, 'r') as rf:\n",
    "            all_text = rf.read()\n",
    "        content = all_text.split(\"X-FileName:\")\n",
    "        if len(content) > 1:\n",
    "            all_contents += content[1] + ' '\n",
    "    \n",
    "    # Write to a new text file\n",
    "    with open(str(identifier), 'wb') as wf:\n",
    "        wf.write(all_contents)\n",
    "    return 'contents parsed'\n",
    "\n",
    "contents = []\n",
    "poi = []\n",
    "\n",
    "# Check and parse contents for enron people only\n",
    "for email in text_dict:\n",
    "    if email in data_dict_email:\n",
    "        parse_contents(text_dict[email]['email_path'], \n",
    "                       text_dict[email]['content_file_id'])\n",
    "        contents.append(text_dict[email]['content_file_id'])\n",
    "        poi.append(text_dict[email]['poi'])"
   ]
  },
  {
   "cell_type": "markdown",
   "metadata": {},
   "source": [
    "#### 2. MODELLING"
   ]
  },
  {
   "cell_type": "markdown",
   "metadata": {},
   "source": [
    "Like earlier, save 30% of the dataset for testing. "
   ]
  },
  {
   "cell_type": "code",
   "execution_count": 2,
   "metadata": {
    "collapsed": false
   },
   "outputs": [],
   "source": [
    "from sklearn.cross_validation import train_test_split\n",
    "contents_train, contents_test = train_test_split(contents, \n",
    "                                                 train_size=0.7, \n",
    "                                                 stratify=poi)\n",
    "\n",
    "poi_train, poi_test = train_test_split(poi, train_size=0.7, \n",
    "                                       stratify=poi)"
   ]
  },
  {
   "cell_type": "markdown",
   "metadata": {},
   "source": [
    "This steemer will make it easier for the classifier to do its job. \n",
    "\n",
    "It run nicely on small data sets, but when deploy on the main data set, it took eternity, in fact, I never see it finish.\n",
    "\n",
    "So as much as I want to, I just can't incluse this steemer. And perhaps because of that, the result of the text mining were so terrible."
   ]
  },
  {
   "cell_type": "code",
   "execution_count": 3,
   "metadata": {
    "collapsed": true
   },
   "outputs": [],
   "source": [
    "from nltk.stem.snowball import SnowballStemmer\n",
    "\n",
    "import regex as reg\n",
    "def preprocess(all_text):\n",
    "    words = ''\n",
    "    ### remove punctuation\n",
    "\n",
    "    text_string = reg.sub(ur\"\\p{P}+\", \"\", all_text)\n",
    "    ### split the text string into individual words, stem each word,\n",
    "    ### and append the stemmed word to words (make sure there's a single\n",
    "    ### space between each stemmed word)\n",
    "    text_string = text_string.split()\n",
    "    stemmer = SnowballStemmer(\"english\")\n",
    "\n",
    "    for word in text_string:\n",
    "        words = words + stemmer.stem(word) + \" \"\n",
    "    return words\n"
   ]
  },
  {
   "cell_type": "markdown",
   "metadata": {},
   "source": [
    "Created a pipeline to make things easier"
   ]
  },
  {
   "cell_type": "code",
   "execution_count": 38,
   "metadata": {
    "collapsed": false
   },
   "outputs": [],
   "source": [
    "from sklearn.pipeline import Pipeline\n",
    "from sklearn.metrics import classification_report\n",
    "from sklearn.grid_search import GridSearchCV\n",
    "from sklearn.feature_selection import SelectPercentile\n",
    "from sklearn.feature_extraction.text import CountVectorizer\n",
    "from sklearn.feature_extraction.text import TfidfTransformer\n",
    "\n",
    "def modelling_text(method, parameters):\n",
    "    \"\"\"\n",
    "    Given a method (algorithm) and a tuning parameters, train \n",
    "    the model and print the results\n",
    "    \"\"\"\n",
    "    pipeline = Pipeline([\n",
    "            ('vectorizer', CountVectorizer(input = 'filename', \n",
    "                                           decode_error ='ignore')),\n",
    "            ('tfidf', TfidfTransformer()),\n",
    "            ('features_selection', SelectPercentile()),\n",
    "            ('classifier', method)\n",
    "        ])\n",
    "    cv = GridSearchCV(pipeline, cv=5, param_grid=parameters)\n",
    "    cv.fit(contents_train, poi_train)\n",
    "    pred = cv.predict(contents_test)\n",
    "    \n",
    "    print classification_report(poi_test, pred)\n"
   ]
  },
  {
   "cell_type": "code",
   "execution_count": 4,
   "metadata": {
    "collapsed": false
   },
   "outputs": [
    {
     "name": "stderr",
     "output_type": "stream",
     "text": [
      "E:\\Work\\Education\\Anacondaa\\lib\\site-packages\\sklearn\\metrics\\classification.py:1074: UndefinedMetricWarning: Precision and F-score are ill-defined and being set to 0.0 in labels with no predicted samples.\n",
      "  'precision', 'predicted', average, warn_for)\n"
     ]
    },
    {
     "name": "stdout",
     "output_type": "stream",
     "text": [
      "             precision    recall  f1-score   support\n",
      "\n",
      "        0.0       0.84      1.00      0.92        27\n",
      "        1.0       0.00      0.00      0.00         5\n",
      "\n",
      "avg / total       0.71      0.84      0.77        32\n",
      "\n",
      "{'features_selection__percentile': 0.01}\n"
     ]
    }
   ],
   "source": [
    "from sklearn.naive_bayes import MultinomialNB\n",
    "method = MultinomialNB()\n",
    "parameters = dict(features_selection__percentile=[0.01, 0.1])\n",
    "\n",
    "modelling_text(method, parameters)"
   ]
  },
  {
   "cell_type": "code",
   "execution_count": 39,
   "metadata": {
    "collapsed": false
   },
   "outputs": [
    {
     "name": "stdout",
     "output_type": "stream",
     "text": [
      "             precision    recall  f1-score   support\n",
      "\n",
      "        0.0       0.83      0.19      0.30        27\n",
      "        1.0       0.00      0.00      0.00         5\n",
      "        3.0       0.00      0.00      0.00         0\n",
      "        8.0       0.00      0.00      0.00         0\n",
      "        9.0       0.00      0.00      0.00         0\n",
      "\n",
      "avg / total       0.70      0.16      0.26        32\n",
      "\n",
      "{'classifier__max_iter': 500, 'features_selection__percentile': 0.01, 'classifier__n_clusters': 10}\n"
     ]
    }
   ],
   "source": [
    "from sklearn.cluster import KMeans\n",
    "method = KMeans()\n",
    "parameters = dict(features_selection__percentile=[0.01],\n",
    "                  classifier__n_clusters=[2, 10],\n",
    "                  classifier__max_iter=[500, 1000])\n",
    "\n",
    "modelling_text(method, parameters)"
   ]
  },
  {
   "cell_type": "code",
   "execution_count": 42,
   "metadata": {
    "collapsed": false
   },
   "outputs": [
    {
     "name": "stdout",
     "output_type": "stream",
     "text": [
      "             precision    recall  f1-score   support\n",
      "\n",
      "        0.0       0.83      0.89      0.86        27\n",
      "        1.0       0.00      0.00      0.00         5\n",
      "\n",
      "avg / total       0.70      0.75      0.72        32\n",
      "\n",
      "{'features_selection__percentile': 0.01, 'classifier__n_estimators': 50, 'classifier__min_samples_split': 2}\n"
     ]
    }
   ],
   "source": [
    "from sklearn.ensemble import RandomForestClassifier\n",
    "\n",
    "method = RandomForestClassifier()\n",
    "parameters = dict(features_selection__percentile=[0.01],\n",
    "                  classifier__n_estimators=[10, 50],\n",
    "                  classifier__min_samples_split=[2, 10, 50])\n",
    "modelling_text(method, parameters)"
   ]
  },
  {
   "cell_type": "markdown",
   "metadata": {
    "collapsed": true
   },
   "source": [
    "# CONCLUSION"
   ]
  },
  {
   "cell_type": "markdown",
   "metadata": {
    "collapsed": true
   },
   "source": [
    "My attempt to gather insights from text-ming was unsuccesful. The reason to this, is mostly due to limitation of hardware:\n",
    "\n",
    "    - Failure in steeming words.\n",
    "    - Limitation in parameters tuning.\n",
    "    \n",
    "With a stronger machine, things could be different.\n",
    "\n",
    "As for structured data, all 3 algirithms delivered good result, GaussianNB proved to be the best algorithm by delivering the highest recall rate:\n",
    "\n",
    "    - Total recall: 0.95\n",
    "    - Recall for poi: 0.67"
   ]
  },
  {
   "cell_type": "code",
   "execution_count": null,
   "metadata": {
    "collapsed": true
   },
   "outputs": [],
   "source": []
  },
  {
   "cell_type": "code",
   "execution_count": null,
   "metadata": {
    "collapsed": true
   },
   "outputs": [],
   "source": []
  }
 ],
 "metadata": {
  "anaconda-cloud": {},
  "kernelspec": {
   "display_name": "Python [Root]",
   "language": "python",
   "name": "Python [Root]"
  },
  "language_info": {
   "codemirror_mode": {
    "name": "ipython",
    "version": 2
   },
   "file_extension": ".py",
   "mimetype": "text/x-python",
   "name": "python",
   "nbconvert_exporter": "python",
   "pygments_lexer": "ipython2",
   "version": "2.7.11"
  }
 },
 "nbformat": 4,
 "nbformat_minor": 0
}
