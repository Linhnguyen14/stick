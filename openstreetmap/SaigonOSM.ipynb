{
 "cells": [
  {
   "cell_type": "code",
   "execution_count": 1,
   "metadata": {
    "collapsed": true
   },
   "outputs": [],
   "source": [
    "import xml.etree.cElementTree as ET\n",
    "import re\n",
    "import sqlite3\n",
    "import pandas as pd\n",
    "import csv\n",
    "import os\n",
    "from IPython.display import Image\n",
    "from IPython.core.display import HTML \n",
    "import matplotlib.pyplot as plt"
   ]
  },
  {
   "cell_type": "markdown",
   "metadata": {},
   "source": [
    "## MAP AREA"
   ]
  },
  {
   "cell_type": "markdown",
   "metadata": {},
   "source": [
    "- Country: Vietnam\n",
    "- City: Saigon\n",
    "- Data avaiable at: https://mapzen.com/data/metro-extracts/metro/ho-chi-minh-city_vietnam/\n",
    "- Additional note: Ho Chi Minh is the current name of the city. However, I prefer the name Saigon, therefore I shall use it in my analysis."
   ]
  },
  {
   "cell_type": "code",
   "execution_count": null,
   "metadata": {
    "collapsed": false
   },
   "outputs": [],
   "source": [
    "Image(filename = \"saigon.JPG\")"
   ]
  },
  {
   "cell_type": "markdown",
   "metadata": {},
   "source": [
    "## THE DATA"
   ]
  },
  {
   "cell_type": "markdown",
   "metadata": {},
   "source": [
    "- Size: 5.4 MB compressed, 69.6 MB uncompressed\n",
    "- Contents: The data contain 3 types of blocks: nodes, ways and relations. \n",
    "\n",
    "   + Nodes: single point in space defined by its latitude, longitude and node id.\n",
    "\n",
    "   + Ways: an ordered list of nodes which normally also has at least one tag or is included within a Relation.\n",
    "\n",
    "   + Relations: A relation is one of the core data elements that consists of one or more tags and also an ordered list of one or more nodes, ways and/or relations as members which is used to define logical or geographic relationships between other elements.\n",
    "\n",
    "- Encoding: 'utf-8', since Python's default encoding 'ascii' doesn't provide support for the type of language encountered. \n",
    "\n",
    "- The scope of this project are limited to nodes and ways."
   ]
  },
  {
   "cell_type": "code",
   "execution_count": null,
   "metadata": {
    "collapsed": true
   },
   "outputs": [],
   "source": [
    "# If you are running this locally, remember to change the path\n",
    "saigon_osm = 'ho-chi-minh-city_vietnam_Short1.osm'"
   ]
  },
  {
   "cell_type": "markdown",
   "metadata": {},
   "source": [
    "## DATA TABLES"
   ]
  },
  {
   "cell_type": "markdown",
   "metadata": {},
   "source": [
    "#### 1. TABLE NODES:"
   ]
  },
  {
   "cell_type": "markdown",
   "metadata": {},
   "source": [
    "    - id INTEGER NOT NULL\n",
    "    - lat REAL\n",
    "    - lon REAL\n",
    "    - user UNICODE\n",
    "    - uid INTEGER\n",
    "    - version INTEGER\n",
    "    - changeset INTEGER\n",
    "    - timestamp STR"
   ]
  },
  {
   "cell_type": "code",
   "execution_count": null,
   "metadata": {
    "collapsed": false
   },
   "outputs": [],
   "source": [
    "# If not none, convert the default string inputs to a specified type.\n",
    "def type_data(stringin, type):\n",
    "    if stringin:\n",
    "        return type(stringin)\n",
    "\n",
    "# If not none, encode the string input to utf-8\n",
    "def string_encode(stringin):\n",
    "    if stringin:\n",
    "        return stringin.encode('utf-8')\n",
    "\n",
    "# Read the osm file, convert the data to pre-specified type. \n",
    "# Return a list of dictionaries containing fields accordingly to table nodes.\n",
    "def nodes_data(file_in):\n",
    "    data_node = []\n",
    "    with open(file_in, 'r') as osm:\n",
    "        for _, element in ET.iterparse(file_in):\n",
    "            if element.tag == 'node' and element.get('id'):                    \n",
    "                node = {}\n",
    "                node['id'] = type_data(element.get('id'), int)\n",
    "                node['lat'] = type_data(element.get('lat'), float)\n",
    "                node['lon'] = type_data(element.get('lon'), float)\n",
    "                node['user'] = string_encode(element.get('user'))\n",
    "                node['uid'] = type_data(element.get('uid'), int)\n",
    "                node['version'] = type_data(element.get('version'), int)\n",
    "                node['changeset'] = type_data(element.get('changeset'), int)\n",
    "                node['timestamp'] = type_data(element.get('timestamp'), str)\n",
    "                data_node.append(node)\n",
    "    return data_node\n",
    "\n",
    "nodes = nodes_data(saigon_osm)"
   ]
  },
  {
   "cell_type": "markdown",
   "metadata": {},
   "source": [
    "#### 2. TABLE NODES_TAGS:"
   ]
  },
  {
   "cell_type": "markdown",
   "metadata": {},
   "source": [
    "    - id INTEGER PRIMARY KEY NOT NULL\n",
    "    - key INTEGER\n",
    "    - value \n",
    "    - type STR"
   ]
  },
  {
   "cell_type": "code",
   "execution_count": null,
   "metadata": {
    "collapsed": false
   },
   "outputs": [],
   "source": [
    "# If the input is not none, identify the type that the input should be\n",
    "# (between int, float and string), convert the input accordingly\n",
    "# while encode the string with utf-8.\n",
    "\n",
    "def type_ident(stringin):\n",
    "    re_float = re.compile(r'^(\\d+|\\-\\d+)(\\.|\\,)(\\d+(e|E)\\+)?\\d+$')\n",
    "    re_int = re.compile(r'^\\-?\\d+$')\n",
    "    if stringin:\n",
    "        if re_float.match(stringin):\n",
    "            try:\n",
    "                return float(stringin)\n",
    "            except ValueError:\n",
    "                return float(stringin.replace(\",\",\".\"))\n",
    "        else:\n",
    "            if re_int.match(stringin):\n",
    "                return int(stringin)\n",
    "            else:\n",
    "                return stringin.encode('utf-8')\n",
    "            \n",
    "# Read the osm file, convert the data to pre-specified type.\n",
    "# If not specified, then identify the type and convert it accordingly.\n",
    "# Return a list of dictionaries containing fields accordingly to table nodes_tags.   \n",
    "def nodes_tags_data(file_in, block):\n",
    "    data = []\n",
    "    with open(file_in, 'r') as osm:\n",
    "        for _, element in ET.iterparse(file_in):\n",
    "            if element.tag == block:\n",
    "                for tag in element.iter('tag'):\n",
    "                    node_tag = {}\n",
    "                    node_tag['id'] = type_data(element.get('id'), int)\n",
    "                    node_tag['key'] = string_encode(tag.attrib.get('k'))\n",
    "                    node_tag['value'] = type_ident(tag.attrib.get('v'))\n",
    "                    node_tag['type'] = type(node_tag['value']).__name__\n",
    "                    data.append(node_tag)\n",
    "    return data\n",
    "            \n",
    "\n",
    "nodes_tags = nodes_tags_data(saigon_osm, 'node')"
   ]
  },
  {
   "cell_type": "markdown",
   "metadata": {
    "collapsed": true
   },
   "source": [
    "#### 3. TABLE WAYS:"
   ]
  },
  {
   "cell_type": "markdown",
   "metadata": {},
   "source": [
    "    - id INTEGER NOT NULL\n",
    "    - user UNICODE\n",
    "    - uid INTEGER\n",
    "    - version INTEGER\n",
    "    - changeset INTEGER\n",
    "    - timestamp STR"
   ]
  },
  {
   "cell_type": "code",
   "execution_count": null,
   "metadata": {
    "collapsed": false
   },
   "outputs": [],
   "source": [
    "# Read the osm file, convert the data to pre-specified type. \n",
    "# Return a list of dictionaries containing fields accordingly to table ways.\n",
    "def ways_data(file_in):\n",
    "    data_node = []\n",
    "    with open(file_in, 'r') as osm:\n",
    "        for _, element in ET.iterparse(file_in):\n",
    "            if element.tag == 'way' and element.get('id'):\n",
    "                node = {}\n",
    "                node['id'] = type_data(element.get('id'), int)\n",
    "                node['user'] = string_encode(element.get('user'))\n",
    "                node['uid'] = type_data(element.get('uid'), int)\n",
    "                node['version'] = type_data(element.get('version'), int)\n",
    "                node['changeset'] = type_data(element.get('changeset'), int)\n",
    "                node['timestamp'] = type_data(element.get('timestamp'), str)\n",
    "                data_node.append(node)\n",
    "    return data_node\n",
    "\n",
    "ways = ways_data(saigon_osm)"
   ]
  },
  {
   "cell_type": "markdown",
   "metadata": {},
   "source": [
    "#### 4. TABLE WAYS_TAGS:"
   ]
  },
  {
   "cell_type": "markdown",
   "metadata": {},
   "source": [
    "    - id INTEGER NOT NULL\n",
    "    - key UNICODE\n",
    "    - value \n",
    "    - type STR"
   ]
  },
  {
   "cell_type": "code",
   "execution_count": null,
   "metadata": {
    "collapsed": false
   },
   "outputs": [],
   "source": [
    "# Read the osm file, convert the data to pre-specified type. \n",
    "# Return a list of dictionaries containing fields accordingly to table ways_tags.\n",
    "def ways_tags_data(file_in):\n",
    "    data = []\n",
    "    with open(file_in, 'r') as osm:\n",
    "        for _, element in ET.iterparse(file_in):\n",
    "            if element.tag == 'way':\n",
    "                for tag in element.iter('tag'):\n",
    "                    if element.get('id') and tag.attrib.get('k') and tag.attrib.get('v'):\n",
    "                        node_tag = {}\n",
    "                        node_tag['id'] = type_data(element.get('id'), int)\n",
    "                        node_tag['key'] = string_encode(tag.attrib.get('k'))\n",
    "                        node_tag['value'] = type_ident(tag.attrib.get('v'))\n",
    "                        node_tag['type'] = type(node_tag['value']).__name__\n",
    "                        data.append(node_tag)\n",
    "    return data\n",
    "\n",
    "ways_tags = ways_tags_data(saigon_osm)"
   ]
  },
  {
   "cell_type": "markdown",
   "metadata": {},
   "source": [
    "#### 5. TABLE WAYS_NODES:"
   ]
  },
  {
   "cell_type": "markdown",
   "metadata": {},
   "source": [
    "Position is a list containing latitude and longtitude data of individual node. I could get them right now, but it will be kinda taxing, so I'll only create a temporary table here to store the needed 'id' and 'node_id'.\n",
    "The position data will be added later on using sqlite.\n",
    "\n",
    "    - id INTEGER NOT NULL,\n",
    "    - node_id INTEGER NOT NULL,\n",
    "    - position INTEGER NOT NULL, \n",
    "    - FOREIGN KEY (id) REFERENCES ways(id),\n",
    "    - FOREIGN KEY (node_id) REFERENCES nodes(id)"
   ]
  },
  {
   "cell_type": "code",
   "execution_count": null,
   "metadata": {
    "collapsed": false
   },
   "outputs": [],
   "source": [
    "# Read the osm file, convert the data to pre-specified type. \n",
    "# Return a list of dictionaries containing fields accordingly to table ways_tags.\n",
    "def ways_nodes_data(file_in):\n",
    "    data = []\n",
    "    with open(file_in, 'r') as osm:\n",
    "        for _, element in ET.iterparse(file_in):\n",
    "            if element.tag == 'way':\n",
    "                for tag in element.iter('nd'):\n",
    "                    if element.get('id') and tag.attrib.get('ref'):\n",
    "                        node_tag = {}\n",
    "                        node_tag['id'] = type_data(element.get('id'), int)\n",
    "                        node_tag['node_id'] = type_data(tag.attrib.get('ref'), int)\n",
    "                        data.append(node_tag)\n",
    "    return data\n",
    "\n",
    "ways_nodes = ways_nodes_data(saigon_osm)\n"
   ]
  },
  {
   "cell_type": "markdown",
   "metadata": {},
   "source": [
    "## PROBLEMS ENCOUNTERED:"
   ]
  },
  {
   "cell_type": "markdown",
   "metadata": {},
   "source": [
    "1. Inconsistent name of district (\"District 1\", \"1\", \"D1\")\n",
    "2. Inconsistent form of phone number (+8412345678, 012345678, 084012345678)"
   ]
  },
  {
   "cell_type": "markdown",
   "metadata": {},
   "source": [
    "#### 1. DISTRICT:"
   ]
  },
  {
   "cell_type": "markdown",
   "metadata": {},
   "source": [
    "So they have 2 naming patterns:\n",
    "- Numeric pattern, where the name of the district is a number, e.x. '1'\n",
    "- String pattern, where the name of the district is a string, e.x. 'Bình Thạnh'\n",
    "\n",
    "The problem is, people have the urge, of adding the word 'district' to the name of the district, and they do just that:\n",
    "- The common way of calling a district for numeric pattern is \"District x\".\n",
    "- The string pattern, however, provide people with more freedom, resulting in several calling pattern:\n",
    "      + \"District x\"\n",
    "      + \"x\"\n",
    "\n",
    "In addition, there are various short form of \"District\", in both Vietnamese and English.\n",
    "\n",
    "So I will choose the simplest approach, I will remove all the district thingy, and leave only the name of that district. If people want, they could always add the word \"district\" later on."
   ]
  },
  {
   "cell_type": "code",
   "execution_count": null,
   "metadata": {
    "collapsed": false
   },
   "outputs": [],
   "source": [
    "numerical_districts = [u'1', u'2', u'3', u'4', u'5', u'6', \n",
    "                       u'7', u'8', u'9', u'10', u'11', u'12']\n",
    "\n",
    "string_districts = [u'Gò Vấp', u'Tân Bình', u'Tân Phú', u'Bình Thạnh', u'Phú Nhuận', u'Thủ Đức', \n",
    "                    u'Bình Tân', u'Củ Chi', u'Hóc Môn', u'Bình Chánh', u'Nhà Bè', u'Cần Giờ']\n",
    "\n",
    "def clean_district(district):\n",
    "    # Convert and encode the name of district\n",
    "    if type(district).__name__ == 'int':\n",
    "        district = unicode(district)\n",
    "    if type(district).__name__ == 'str':\n",
    "        district = unicode(district, 'utf-8')\n",
    "    \n",
    "    # Return the correct district name if the data match the correct district name.\n",
    "    for district_name in string_districts:\n",
    "        if district_name in district:\n",
    "            return district_name\n",
    "        # Try again, this time lower case and without white space.\n",
    "        district_name_plain = district_name.lower().replace(' ', '')\n",
    "        district_plain = district.lower().replace(' ', '')\n",
    "        if district_name_plain in district_plain:\n",
    "            return district_name        \n",
    "\n",
    "    # If the district doesn't belong to string_districts, then try to match with numerical_districts\n",
    "    for district_name in numerical_districts:\n",
    "        if district_name in district:\n",
    "            return district_name\n",
    "    \n",
    "    # If not, then the data might be wrong. But I don't know that, so I choosed to keep it like that.\n",
    "    return district"
   ]
  },
  {
   "cell_type": "markdown",
   "metadata": {},
   "source": [
    "#### 2. PHONE NUMBER:"
   ]
  },
  {
   "cell_type": "markdown",
   "metadata": {},
   "source": [
    "I'm going to try converting all the phone numbers to the international standard E.164.\n",
    "Since the country's code is +84, I do have the urge, of adding +84 to all the numbers at hand.\n",
    "But it might not be a wise choice, since it might affect the integrity of the data set.\n",
    "So I will just clean the data, while advoiding changes as best as I can:\n",
    "    - Remove special chars (-/.), leaving only the comma (,) to seperate numbers (in case of more than one input).\n",
    "    - Remove 0 around country code (+084, +840).\n",
    "    - Remove 0 at the beginning of phone numbers (0912345678)"
   ]
  },
  {
   "cell_type": "code",
   "execution_count": null,
   "metadata": {
    "collapsed": true
   },
   "outputs": [],
   "source": [
    "#+0840917685464 (+848)38241534 84-8-38385584 (08)62738496\n",
    "# While the international standard E.164 provide up to 15 digits, Vietnam have only used up to 12 digits.\n",
    "def clean_number(number):\n",
    "    number = str(number)\n",
    "    number = number.replace(\" \", \"\")\n",
    "    number = number.replace(\".\", \"\")\n",
    "    ideal_pattern = re.compile('^\\+?[1-9]\\d{1,12}$') # +84xxxxxxx or xxxxxxxx\n",
    "    contain_0_beginning = re.compile('^0')\n",
    "    \n",
    "    # If the phone number is of ideal pattern, stop and return the number\n",
    "    if ideal_pattern.match(number):\n",
    "        return number\n",
    "        \n",
    "    # If not, proceed to bring it to the ideal pattern, with the least amount of intervention possible.\n",
    "    \n",
    "    # Some people input multiple numbers, instead of main_number: xxxxxxxx, \n",
    "    # they put in main_number_1: xxxxxx/ main_number_2: xxxxxx\n",
    "    # Be ilpractice to replace any of those numbers.\n",
    "    # Least I could do, is to remove and use only one special char \n",
    "    # as the delimiter, in this case, the comma ','\n",
    "    if len(number) > 16:\n",
    "        number = number.replace(';', ',')\n",
    "        number = number.replace('-', ',')\n",
    "        number = number.replace('/', ',')\n",
    "        \n",
    "    # Remove special characters:\n",
    "    number = number.replace('(', '')\n",
    "    number = number.replace(')', '')\n",
    "    number = number.replace('-', '')\n",
    "    number = number.replace('/', ',')\n",
    "    \n",
    "    # Remove 0 at the beginning of a phone number:\n",
    "    if contain_0_beginning.match(number):\n",
    "        number = number.replace('0', '', 1)\n",
    "        number = number.replace('-', '')\n",
    "        # When there are more than one\n",
    "        if ',' in number and number[number.index(',') + 1] == '0':\n",
    "            number = number[:number.index(',') + 1] + '' + number[number.index(',') +2:]\n",
    "    \n",
    "    # Remove 0 in or around the country code '+84' and '84':\n",
    "    contain_country_code = re.compile('^\\+?\\d?840?')\n",
    "    if contain_country_code.match(number):\n",
    "        for code in re.finditer(contain_country_code, number):\n",
    "            number = code.group().replace('0', '') + number[len(code.group()):] \n",
    "    return number"
   ]
  },
  {
   "cell_type": "markdown",
   "metadata": {},
   "source": [
    "I loaded them up on pandas, for easy of operation."
   ]
  },
  {
   "cell_type": "code",
   "execution_count": null,
   "metadata": {
    "collapsed": false
   },
   "outputs": [],
   "source": [
    "def data_type(datain):\n",
    "    return type(datain).__name__\n",
    "    \n",
    "def clean_phone(datain):\n",
    "    datain.loc[datain['key'] == 'addr:district', 'value'] = (datain.loc[datain['key'] == 'addr:district', 'value']\n",
    "                                                             .apply(clean_district))\n",
    "    datain.loc[datain['key'] == 'phone', 'value'] = (datain.loc[datain['key'] == 'phone', 'value']\n",
    "                                                     .apply(clean_number))\n",
    "    datain['type'] = datain['value'].apply(data_type)\n",
    "\n",
    "    return datain\n",
    "\n",
    "pd_nodes_tags = pd.DataFrame(nodes_tags)\n",
    "clean_phone(pd_nodes_tags)\n"
   ]
  },
  {
   "cell_type": "markdown",
   "metadata": {
    "collapsed": true
   },
   "source": [
    "## EXPORT TO CSV"
   ]
  },
  {
   "cell_type": "markdown",
   "metadata": {},
   "source": [
    "Export the 3 lists and pandas dataframe to csv, encoded with utf-8 and a BOM."
   ]
  },
  {
   "cell_type": "code",
   "execution_count": null,
   "metadata": {
    "collapsed": true
   },
   "outputs": [],
   "source": [
    "def exportdata(datain, name):\n",
    "    keys = datain[0].keys()\n",
    "    with open(name, 'wb') as dataout:\n",
    "        dataout.write(u'\\ufeff'.encode('utf-8'))\n",
    "        dict_writer = csv.DictWriter(dataout, keys)\n",
    "        dict_writer.writeheader()\n",
    "        dict_writer.writerows(datain)"
   ]
  },
  {
   "cell_type": "code",
   "execution_count": null,
   "metadata": {
    "collapsed": false
   },
   "outputs": [],
   "source": [
    "with open(\"nodes_tags.csv\", \"wb\") as dataout:\n",
    "    dataout.write(u'\\ufeff'.encode('utf-8'))\n",
    "    pd_nodes_tags.to_csv(dataout, index = False, encoding='utf-8')"
   ]
  },
  {
   "cell_type": "code",
   "execution_count": null,
   "metadata": {
    "collapsed": false
   },
   "outputs": [],
   "source": [
    "exportdata(nodes, \"nodes.csv\")\n",
    "exportdata(ways, \"ways.csv\")\n",
    "exportdata(ways_tags, \"ways_tags.csv\")\n",
    "exportdata(ways_nodes, \"ways_nodes.csv\")"
   ]
  },
  {
   "cell_type": "markdown",
   "metadata": {},
   "source": [
    "## IMPORT TO SQLITE"
   ]
  },
  {
   "cell_type": "markdown",
   "metadata": {},
   "source": [
    "#### 1. IMPORT DATA:"
   ]
  },
  {
   "cell_type": "markdown",
   "metadata": {},
   "source": [
    "It's time to import the csv files to the newly created database.\n",
    "\n",
    "These files were encoded using utf-8 with a BOM, so to read them properly, the BOM have to be skipped with 'utf-8-sig'."
   ]
  },
  {
   "cell_type": "code",
   "execution_count": null,
   "metadata": {
    "collapsed": false
   },
   "outputs": [],
   "source": [
    "def schemachecker(database, schema_data):\n",
    "    if not os.path.exists(database):\n",
    "        with open(schema_data, 'rb') as s:\n",
    "            schema = s.read()\n",
    "        conn = sqlite3.connect(database)\n",
    "        cur = conn.cursor()\n",
    "        cur.executescript(schema)\n",
    "        conn.commit()\n",
    "        conn.close()\n",
    "    else:\n",
    "        pass\n",
    "        \n",
    "        \n",
    "def importdata(datain, database, table, schema_data = None):\n",
    "    schemachecker(database, schema_data)\n",
    "    conn = sqlite3.connect(database)\n",
    "    cur = conn.cursor()\n",
    "    data = pd.read_csv(datain, encoding='utf-8-sig')\n",
    "    data.to_sql(table, conn, if_exists='append', index=False)\n",
    "    conn.commit()\n",
    "    conn.close()"
   ]
  },
  {
   "cell_type": "code",
   "execution_count": null,
   "metadata": {
    "collapsed": true
   },
   "outputs": [],
   "source": [
    "importdata(\"nodes.csv\", \"saigon_osm.db\", \"nodes\", \"saigon_osm_schema.sql\")\n",
    "importdata(\"nodes_tags.csv\", \"saigon_osm.db\", \"nodes_tags\")\n",
    "importdata(\"ways.csv\", \"saigon_osm.db\", \"ways\")\n",
    "importdata(\"ways_tags.csv\", \"saigon_osm.db\", \"ways_tags\")\n",
    "importdata(\"ways_nodes.csv\", \"saigon_osm.db\", \"ways_nodes_temp\")"
   ]
  },
  {
   "cell_type": "markdown",
   "metadata": {},
   "source": [
    "#### 2. ADD MISSING DATA AND REMOVE TEMP TABLE:"
   ]
  },
  {
   "cell_type": "markdown",
   "metadata": {},
   "source": [
    "I created 2 functions, to make my life easier:\n",
    "    - run_commit: run and commit script.\n",
    "    - run_query: run the script, display the result."
   ]
  },
  {
   "cell_type": "code",
   "execution_count": 2,
   "metadata": {
    "collapsed": true
   },
   "outputs": [],
   "source": [
    "def run_query(query, database, fetchone = False):\n",
    "    with sqlite3.connect(database) as conn:\n",
    "        cur = conn.cursor()\n",
    "        cur.execute(query)\n",
    "        if fetchone == True:\n",
    "            return cur.fetchone()\n",
    "        else:\n",
    "            return cur.fetchall()\n",
    "\n",
    "def run_commit(query, database):\n",
    "    with sqlite3.connect(database) as conn:\n",
    "        cur = conn.cursor()\n",
    "        cur.execute(query)\n",
    "        conn.commit()"
   ]
  },
  {
   "cell_type": "markdown",
   "metadata": {},
   "source": [
    "Now I have 2 choices:\n",
    "- Add a new column with the default value of Null, then proceed to update it with data queryied from another table.\n",
    "- Create a new table, insert the queried data to it, then remove the old one.\n",
    "\n",
    "I choosed the later, since 'update' doesn't play very well with 'where' (performance), and the default Null value from the newly created column might be problematic later."
   ]
  },
  {
   "cell_type": "code",
   "execution_count": null,
   "metadata": {
    "collapsed": false
   },
   "outputs": [],
   "source": [
    "# Create the new table\n",
    "ways_nodes_schema = ('CREATE TABLE ways_nodes ( '\n",
    "                     'id INTEGER NOT NULL, '\n",
    "                     'node_id INTEGER NOT NULL, '\n",
    "                     'position INTEGER NOT NULL, '\n",
    "                     'FOREIGN KEY (id) REFERENCES ways(id), '\n",
    "                     'FOREIGN KEY (node_id) REFERENCES nodes(id)) ')\n",
    "\n",
    "run_commit(ways_nodes_schema, \"saigon_osm.db\")\n",
    "\n",
    "# Insert data for the new table\n",
    "insert_ways_nodes = ('insert into ways_nodes (id, node_id, position) '\n",
    "                     'select id, node_id, group_concat(position) '\n",
    "                     'from ('\n",
    "                     'select ways_nodes_temp.id as id, ways_nodes_temp.node_id as node_id, lat as position '\n",
    "                     'from ways_nodes_temp, nodes ' \n",
    "                     'where ways_nodes_temp.node_id == nodes.id '\n",
    "                     'group by node_id '\n",
    "                     'union all '\n",
    "                     \n",
    "                     'select ways_nodes_temp.id as id, ways_nodes_temp.node_id as node_id, lon as position '\n",
    "                     'from ways_nodes_temp, nodes '\n",
    "                     'where ways_nodes_temp.node_id == nodes.id '\n",
    "                     'group by node_id) '\n",
    "                     'group by node_id')\n",
    "\n",
    "run_commit(insert_ways_nodes, \"saigon_osm.db\")\n",
    "\n",
    "# Drop the temp table\n",
    "drop_temp_table = 'drop table ways_nodes_temp'\n",
    "run_commit(drop_temp_table, \"saigon_osm.db\")"
   ]
  },
  {
   "cell_type": "markdown",
   "metadata": {},
   "source": [
    "## Explore the database"
   ]
  },
  {
   "cell_type": "markdown",
   "metadata": {},
   "source": [
    "#### 1. Number of nodes"
   ]
  },
  {
   "cell_type": "code",
   "execution_count": null,
   "metadata": {
    "collapsed": false
   },
   "outputs": [],
   "source": [
    "query = 'SELECT count(*) FROM nodes'\n",
    "run_query(query, \"saigon_osm.db\")"
   ]
  },
  {
   "cell_type": "markdown",
   "metadata": {},
   "source": [
    "#### 2. Number of ways:"
   ]
  },
  {
   "cell_type": "code",
   "execution_count": null,
   "metadata": {
    "collapsed": false
   },
   "outputs": [],
   "source": [
    "query = 'SELECT count(*) FROM ways'\n",
    "run_query(query, \"saigon_osm.db\")"
   ]
  },
  {
   "cell_type": "markdown",
   "metadata": {},
   "source": [
    "#### 3. Top contributors:"
   ]
  },
  {
   "cell_type": "code",
   "execution_count": null,
   "metadata": {
    "collapsed": false
   },
   "outputs": [],
   "source": [
    "qr_contributions = (\"select uid, user, sum(counts) \"\n",
    "                    \"from (\"\n",
    "                    \"select uid, user, count(*) as counts from nodes group by uid \"\n",
    "                    \"union all \"\n",
    "                    \"select uid, user, count(*) as counts from ways group by uid) \"\n",
    "                    \"group by uid order by sum(counts) desc limit 10\")\n",
    "run_query(qr_contributions, \"saigon_osm.db\")"
   ]
  },
  {
   "cell_type": "markdown",
   "metadata": {
    "collapsed": true
   },
   "source": [
    "#### 4. Number of unique contributors:"
   ]
  },
  {
   "cell_type": "code",
   "execution_count": null,
   "metadata": {
    "collapsed": false
   },
   "outputs": [],
   "source": [
    "qr_unq_contributor = (\"select count(*) \"\n",
    "                      \"from (\"\n",
    "                      \"select uid, user, count(*) as counts from nodes group by uid \"\n",
    "                      \"union all \"\n",
    "                      \"select uid, user, count(*) as counts from ways group by uid)\")\n",
    "run_query(qr_unq_contributor, \"saigon_osm.db\")"
   ]
  },
  {
   "cell_type": "markdown",
   "metadata": {},
   "source": [
    "#### 5. Top chosen type of nodes:"
   ]
  },
  {
   "cell_type": "code",
   "execution_count": null,
   "metadata": {
    "collapsed": false
   },
   "outputs": [],
   "source": [
    "qr_top_nodes_tags = (\"select key, type, count(*) \"\n",
    "                     \"from nodes_tags \"\n",
    "                     \"group by key order by count(*) desc \"\n",
    "                     \"limit 10\")\n",
    "\n",
    "run_query(qr_top_nodes_tags, \"saigon_osm.db\")"
   ]
  },
  {
   "cell_type": "markdown",
   "metadata": {},
   "source": [
    "#### 6. Contribution from the top 1% compare to the rest:"
   ]
  },
  {
   "cell_type": "markdown",
   "metadata": {},
   "source": [
    "The top 1% contribute 337,972 contributions, amount to 87% of all contents."
   ]
  },
  {
   "cell_type": "code",
   "execution_count": null,
   "metadata": {
    "collapsed": false
   },
   "outputs": [],
   "source": [
    "top_contributions = ('select sum(sum) from ('\n",
    "                     'select uid, user, count(*) as sum '\n",
    "                     'from ('\n",
    "                         \n",
    "                     'select uid, user from nodes '\n",
    "                     'union all '\n",
    "                     'select uid, user from ways) '\n",
    "                         \n",
    "                     'group by uid '\n",
    "                     'order by sum desc '\n",
    "                     'limit 12)')\n",
    "\n",
    "total_contributions = ('select sum(sum) from ('\n",
    "                       'select uid, user, count(*) as sum '\n",
    "                       'from ('\n",
    "                         \n",
    "                       'select uid, user from nodes '\n",
    "                       'union all '\n",
    "                       'select uid, user from ways) '\n",
    "                           \n",
    "                       'group by uid '\n",
    "                       'order by sum desc) ')\n",
    "  \n",
    "top_contributions = [result[0] for result in run_query(top_contributions, \"saigon_osm.db\")]\n",
    "total = [result[0] for result in run_query(total_contributions, \"saigon_osm.db\")]\n",
    "\n",
    "print \"Contributions from top contributors: {}\".format(top_contributions[0])\n",
    "print \"Total contributions: {}\".format(total[0])\n",
    "print \"Percentage of contributions from top contributors: {}\".format(float(top_contributions[0]) / float(total[0]) * 100.0)"
   ]
  },
  {
   "cell_type": "markdown",
   "metadata": {},
   "source": [
    "## FUTURE ANALYSIS DIRECTIONS:"
   ]
  },
  {
   "cell_type": "markdown",
   "metadata": {},
   "source": [
    "This data set is human generated. It would be normal to expect:\n",
    "    - Lots of special chars.\n",
    "    - Lots of different data patterns.\n",
    "    - Nonsense things (some people do want to watch the world burn).\n",
    "    - Honest mistakes (people who mistook Saigon with California, or Pho with Horse).\n",
    "\n",
    "While cleaning the district data in saigon, I encountered some place, from Dong Nai, which is another province.\n",
    "Not sure if the place's in saigon, and it was just a misplaced, or if the place was in Dong Nai, and by some chances, it got to the Saigon data.\n",
    "\n",
    "I was also hesitated to go for the 'opening hours' data, it was just scary. Perhaps will come back later in the future, to try cleaning this one."
   ]
  },
  {
   "cell_type": "markdown",
   "metadata": {},
   "source": [
    "## OTHER IDEAS ABOUT THE DATASETS:"
   ]
  },
  {
   "cell_type": "markdown",
   "metadata": {},
   "source": [
    "Before delivering any ideas or making any assumptions about the datasets, it is essential, to have a clear view of what's going on with it.\n",
    "\n",
    "First and foremost, I'm going to visualize the contributions and contributors data over the year.\n",
    "\n",
    "I use the function \"return_yearly_contributions\" to run a query on the database previously created, stored and processed and return a pandas dataframe."
   ]
  },
  {
   "cell_type": "code",
   "execution_count": 3,
   "metadata": {
    "collapsed": false
   },
   "outputs": [],
   "source": [
    "# Function return_year will return for anything that have 4 digits, which is the pattern of a year.\n",
    "def return_year(datestring):\n",
    "    match = re.search('\\d{4}', datestring)\n",
    "    if match:\n",
    "        return int(match.group(0))\n",
    "\n",
    "# Return a pandas dataframe containing the yearly contributions\n",
    "def return_yearly_contributions(query):\n",
    "    # Run the query.\n",
    "    contributiontime_data = run_query(query, \"saigon_osm_f.db\")\n",
    "    \n",
    "    # Store it in a pandas dataframe.\n",
    "    df = str(query)\n",
    "    df = pd.DataFrame(contributiontime_data)\n",
    "    df.columns = ['uid', 'user', 'time']\n",
    "    df['year'] = df['time'].apply(return_year)\n",
    "    \n",
    "    # Group the data by year, and count the number of contributions per year\n",
    "    df = df.groupby('year').size()\n",
    "    df = df.reset_index()\n",
    "    df.columns = ['year', 'contributions']\n",
    "    return df"
   ]
  },
  {
   "cell_type": "markdown",
   "metadata": {},
   "source": [
    "#### YEARLY CONTRIBUTIONS FROM TOP CONTRIBUTORS:"
   ]
  },
  {
   "cell_type": "markdown",
   "metadata": {},
   "source": [
    "Since the query for this one is long and tricky, I separated them into 2 part:\n",
    "- top_contributors_list: Create a list of the top 12 contributors.\n",
    "- top_contributions: Search the database for the data from these 12 contributors.\n",
    "\n",
    "Then I created the dataframe using the function defined above, added the year '2008' to make it easier for synch with the full data."
   ]
  },
  {
   "cell_type": "code",
   "execution_count": 4,
   "metadata": {
    "collapsed": false
   },
   "outputs": [
    {
     "data": {
      "text/html": [
       "<div>\n",
       "<table border=\"1\" class=\"dataframe\">\n",
       "  <thead>\n",
       "    <tr style=\"text-align: right;\">\n",
       "      <th></th>\n",
       "      <th>year</th>\n",
       "      <th>contributions</th>\n",
       "    </tr>\n",
       "  </thead>\n",
       "  <tbody>\n",
       "    <tr>\n",
       "      <th>0</th>\n",
       "      <td>2008</td>\n",
       "      <td>0</td>\n",
       "    </tr>\n",
       "    <tr>\n",
       "      <th>1</th>\n",
       "      <td>2009</td>\n",
       "      <td>87270</td>\n",
       "    </tr>\n",
       "    <tr>\n",
       "      <th>2</th>\n",
       "      <td>2010</td>\n",
       "      <td>1273</td>\n",
       "    </tr>\n",
       "    <tr>\n",
       "      <th>3</th>\n",
       "      <td>2011</td>\n",
       "      <td>10357</td>\n",
       "    </tr>\n",
       "    <tr>\n",
       "      <th>4</th>\n",
       "      <td>2012</td>\n",
       "      <td>37149</td>\n",
       "    </tr>\n",
       "    <tr>\n",
       "      <th>5</th>\n",
       "      <td>2013</td>\n",
       "      <td>45316</td>\n",
       "    </tr>\n",
       "    <tr>\n",
       "      <th>6</th>\n",
       "      <td>2014</td>\n",
       "      <td>86643</td>\n",
       "    </tr>\n",
       "    <tr>\n",
       "      <th>7</th>\n",
       "      <td>2015</td>\n",
       "      <td>54592</td>\n",
       "    </tr>\n",
       "    <tr>\n",
       "      <th>8</th>\n",
       "      <td>2016</td>\n",
       "      <td>15372</td>\n",
       "    </tr>\n",
       "  </tbody>\n",
       "</table>\n",
       "</div>"
      ],
      "text/plain": [
       "   year  contributions\n",
       "0  2008              0\n",
       "1  2009          87270\n",
       "2  2010           1273\n",
       "3  2011          10357\n",
       "4  2012          37149\n",
       "5  2013          45316\n",
       "6  2014          86643\n",
       "7  2015          54592\n",
       "8  2016          15372"
      ]
     },
     "execution_count": 4,
     "metadata": {},
     "output_type": "execute_result"
    }
   ],
   "source": [
    "top_contributors_list = ('select uid '\n",
    "                         'from ('\n",
    "                         'select uid, user from nodes '\n",
    "                         'union all '\n",
    "                         'select uid, user from ways) '\n",
    "                         'group by uid '\n",
    "                         'order by count(*) desc '\n",
    "                         'limit 12 ')\n",
    "                     \n",
    "top_contributions = ('select uid, user, timestamp from nodes '\n",
    "                     'where nodes.uid in ({})'\n",
    "                     'union all '\n",
    "                     'select uid, user, timestamp from ways '\n",
    "                     'where ways.uid in ({})'\n",
    "                    ).format(top_contributors_list, top_contributors_list)\n",
    "\n",
    "yearly_top_contributions = return_yearly_contributions(top_contributions)\n",
    "yearly_top_contributions.loc[-1] = [2008, 0]\n",
    "yearly_top_contributions.index = yearly_top_contributions.index + 1\n",
    "yearly_top_contributions = yearly_top_contributions.sort_index()\n",
    "yearly_top_contributions"
   ]
  },
  {
   "cell_type": "markdown",
   "metadata": {},
   "source": [
    "#### YEARLY CONTRIBUTIONS FROM OTHERS (NOT TOP CONTRIBUTORS):"
   ]
  },
  {
   "cell_type": "markdown",
   "metadata": {},
   "source": [
    "I took the full contributions data, and minus it to the top contributor's to find the yearly contributions from others.\n",
    "\n",
    "It's also a way to check for errors, since the result are supposed not to be smaller than 0."
   ]
  },
  {
   "cell_type": "code",
   "execution_count": 10,
   "metadata": {
    "collapsed": false
   },
   "outputs": [
    {
     "data": {
      "text/html": [
       "<div>\n",
       "<table border=\"1\" class=\"dataframe\">\n",
       "  <thead>\n",
       "    <tr style=\"text-align: right;\">\n",
       "      <th></th>\n",
       "      <th>year</th>\n",
       "      <th>contributions</th>\n",
       "    </tr>\n",
       "  </thead>\n",
       "  <tbody>\n",
       "    <tr>\n",
       "      <th>0</th>\n",
       "      <td>2008</td>\n",
       "      <td>1</td>\n",
       "    </tr>\n",
       "    <tr>\n",
       "      <th>1</th>\n",
       "      <td>2009</td>\n",
       "      <td>2515</td>\n",
       "    </tr>\n",
       "    <tr>\n",
       "      <th>2</th>\n",
       "      <td>2010</td>\n",
       "      <td>538</td>\n",
       "    </tr>\n",
       "    <tr>\n",
       "      <th>3</th>\n",
       "      <td>2011</td>\n",
       "      <td>1575</td>\n",
       "    </tr>\n",
       "    <tr>\n",
       "      <th>4</th>\n",
       "      <td>2012</td>\n",
       "      <td>2710</td>\n",
       "    </tr>\n",
       "    <tr>\n",
       "      <th>5</th>\n",
       "      <td>2013</td>\n",
       "      <td>6429</td>\n",
       "    </tr>\n",
       "    <tr>\n",
       "      <th>6</th>\n",
       "      <td>2014</td>\n",
       "      <td>12684</td>\n",
       "    </tr>\n",
       "    <tr>\n",
       "      <th>7</th>\n",
       "      <td>2015</td>\n",
       "      <td>10448</td>\n",
       "    </tr>\n",
       "    <tr>\n",
       "      <th>8</th>\n",
       "      <td>2016</td>\n",
       "      <td>13347</td>\n",
       "    </tr>\n",
       "  </tbody>\n",
       "</table>\n",
       "</div>"
      ],
      "text/plain": [
       "   year  contributions\n",
       "0  2008              1\n",
       "1  2009           2515\n",
       "2  2010            538\n",
       "3  2011           1575\n",
       "4  2012           2710\n",
       "5  2013           6429\n",
       "6  2014          12684\n",
       "7  2015          10448\n",
       "8  2016          13347"
      ]
     },
     "execution_count": 10,
     "metadata": {},
     "output_type": "execute_result"
    }
   ],
   "source": [
    "total_contributions = ('select uid, user, timestamp from nodes '\n",
    "                       'union all '\n",
    "                       'select uid, user, timestamp from ways ')\n",
    "\n",
    "yearly_total_contributions = return_yearly_contributions(total_contributions)\n",
    "yearly_not_top_contributions = yearly_total_contributions - yearly_top_contributions\n",
    "yearly_not_top_contributions['year'] = yearly_total_contributions['year']\n",
    "yearly_not_top_contributions                                     "
   ]
  },
  {
   "cell_type": "markdown",
   "metadata": {},
   "source": [
    "#### THE VISUALIZATION:"
   ]
  },
  {
   "cell_type": "code",
   "execution_count": 31,
   "metadata": {
    "collapsed": false
   },
   "outputs": [
    {
     "data": {
      "text/plain": [
       "<matplotlib.legend.Legend at 0xae34db0>"
      ]
     },
     "execution_count": 31,
     "metadata": {},
     "output_type": "execute_result"
    },
    {
     "data": {
      "image/png": "[encoded data removed]",
      "text/plain": [
       "<matplotlib.figure.Figure at 0xc7b2f10>"
      ]
     },
     "metadata": {},
     "output_type": "display_data"
    }
   ],
   "source": [
    "# Create the general blog and the \"subplots\"\n",
    "%matplotlib inline\n",
    "f, ax1 = plt.subplots(1, figsize=(10,5))\n",
    "bar_width = 0.75\n",
    "bar_l = range(2008,2017) \n",
    "tick_pos = [i+(bar_width/2) for i in bar_l] \n",
    "\n",
    "# Create the top_contributors graph\n",
    "ax1.bar(bar_l, yearly_top_contributions['contributions'], width=bar_width, \n",
    "        label='Top 1%', alpha=0.5, color='darkgreen')\n",
    "\n",
    "# Create the non_top_contributors graph, position it above the top_contributors\n",
    "ax1.bar(bar_l, yearly_not_top_contributions['contributions'], width=bar_width, \n",
    "        bottom=yearly_top_contributions['contributions'], label='The rest', alpha=0.5, color='gold')\n",
    "\n",
    "# set the x ticks with names of years\n",
    "plt.xticks(tick_pos, range(2008,2017))\n",
    "\n",
    "# Set the label and legends\n",
    "ax1.set_ylabel(\"Contributions\")\n",
    "ax1.set_xlabel(\"Year\")\n",
    "ax1.set_title(\"Yearly Contributions - OSM Saigon\")\n",
    "plt.legend(loc='upper right')"
   ]
  },
  {
   "cell_type": "markdown",
   "metadata": {},
   "source": [
    "The top 1% contributors contribute up to 87% of all contents. And they are human, not bots.\n",
    " \n",
    "And no, that is a very bad news:\n",
    "    - It's good and all, when the top contributors contribute. But what happened, when they stopped? Well, nothing. Nothing happened, because there was no one to make it happened. Look at 2010, contributions dropped to almost nothing.\n",
    "    - Open Street Map can be so much more accurate than Google's and Bing's, because it relies on \"on the ground\" volunteers. So it's gonna be hurted the most, when volunteer contributions drop.\n",
    "    - The numbers of volunteers and contributions from non-top-contributors are increasing steadily over the years, which is good, but not good enough. The map of Saigon, let alone Vietnam, are still severely lacking.\n",
    "    \n",
    "To remain relevant, OSM Saigon needs more contributors. There are lots of ways:\n",
    "    - Type of contributors: Why relies on human, when you could use machine? We're now in the era of robots (delivery bots, both ground and air). We could now employ thousands of flying bots to do real-time aerial mapping, world-wide. This, however, also mean that Google's and Bing's could do the same thing. And it's gonna be difficult, to prevail against them, given their huge advantageous in technology and capital.\n",
    "    - Reduce barriers of entry: No more GPS device, no more pens and paper, now, with just a smartphone, and an app, plug-n-play, anyone with a smartphone could become a contributor now.\n",
    "    - Incentives: There are still things that only human could do. So a special incentive system would go a long way:\n",
    "          + A leader board that honour top contributors.\n",
    "          + Some sort of personalized page, where people can quote or show off their contributions."
   ]
  }
 ],
 "metadata": {
  "anaconda-cloud": {},
  "kernelspec": {
   "display_name": "Python [Root]",
   "language": "python",
   "name": "Python [Root]"
  },
  "language_info": {
   "codemirror_mode": {
    "name": "ipython",
    "version": 2
   },
   "file_extension": ".py",
   "mimetype": "text/x-python",
   "name": "python",
   "nbconvert_exporter": "python",
   "pygments_lexer": "ipython2",
   "version": "2.7.11"
  }
 },
 "nbformat": 4,
 "nbformat_minor": 0
}
